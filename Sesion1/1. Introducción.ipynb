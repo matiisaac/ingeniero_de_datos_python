{
 "cells": [
  {
   "cell_type": "code",
   "execution_count": 57,
   "id": "97f5d889",
   "metadata": {},
   "outputs": [
    {
     "name": "stdout",
     "output_type": "stream",
     "text": [
      "Hola Mundo\n"
     ]
    }
   ],
   "source": [
    "print('Hola Mundo')"
   ]
  },
  {
   "cell_type": "code",
   "execution_count": 58,
   "id": "6808fe09",
   "metadata": {},
   "outputs": [
    {
     "name": "stdout",
     "output_type": "stream",
     "text": [
      "Hola\n",
      "Salida\n"
     ]
    }
   ],
   "source": [
    "if True :\n",
    "    print('Hola')\n",
    "    x = 40\n",
    "\n",
    "print('Salida')"
   ]
  },
  {
   "cell_type": "code",
   "execution_count": 59,
   "id": "cef1df38",
   "metadata": {},
   "outputs": [],
   "source": [
    "# comentario 1"
   ]
  },
  {
   "cell_type": "code",
   "execution_count": 60,
   "id": "b168fb5f",
   "metadata": {},
   "outputs": [
    {
     "name": "stdout",
     "output_type": "stream",
     "text": [
      "Hazlocondatos\n"
     ]
    }
   ],
   "source": [
    "#variables\n",
    "\n",
    "var1 = ''\n",
    "\n",
    "var2 = 2\n",
    "\n",
    "var3 = 'Hazlocondatos'\n",
    "\n",
    "print(var3)"
   ]
  },
  {
   "cell_type": "code",
   "execution_count": 61,
   "id": "3a2b5d60",
   "metadata": {},
   "outputs": [
    {
     "name": "stdout",
     "output_type": "stream",
     "text": [
      "<class 'str'>\n"
     ]
    }
   ],
   "source": [
    "print(type(var3))"
   ]
  },
  {
   "cell_type": "code",
   "execution_count": 62,
   "id": "657ae2f6",
   "metadata": {},
   "outputs": [
    {
     "name": "stdout",
     "output_type": "stream",
     "text": [
      "Manzana\n",
      "Platano\n",
      "Sandia\n"
     ]
    }
   ],
   "source": [
    "x, y, z = 'Manzana', 'Platano', 'Sandia'\n",
    "\n",
    "print(x)\n",
    "print(y)\n",
    "print(z)"
   ]
  },
  {
   "cell_type": "code",
   "execution_count": 63,
   "id": "ee84f67d",
   "metadata": {},
   "outputs": [
    {
     "name": "stdout",
     "output_type": "stream",
     "text": [
      "[3, 'Manzana', [1, 4, 'Platano']]\n"
     ]
    }
   ],
   "source": [
    "#listas\n",
    "\n",
    "lista1 = []\n",
    "\n",
    "lista2 = [3, 5, 8]\n",
    "\n",
    "lista3 = ['Manzana', 'Platano']\n",
    "\n",
    "lista4 = [3, 'Manzana', 3.4]\n",
    "\n",
    "lista5 = [3, 'Manzana', [1, 4, 'Platano']]\n",
    "\n",
    "print(lista5)"
   ]
  },
  {
   "cell_type": "code",
   "execution_count": 64,
   "id": "b77fb8da",
   "metadata": {},
   "outputs": [
    {
     "name": "stdout",
     "output_type": "stream",
     "text": [
      "[1, 4, 'Platano']\n"
     ]
    }
   ],
   "source": [
    "#operador indice []\n",
    "\n",
    "print(lista5[2])"
   ]
  },
  {
   "cell_type": "code",
   "execution_count": 65,
   "id": "e8336537",
   "metadata": {},
   "outputs": [
    {
     "name": "stdout",
     "output_type": "stream",
     "text": [
      "Platano\n"
     ]
    }
   ],
   "source": [
    "print(lista5[2][2])"
   ]
  },
  {
   "cell_type": "code",
   "execution_count": 66,
   "id": "73a5bc8b",
   "metadata": {},
   "outputs": [
    {
     "name": "stdout",
     "output_type": "stream",
     "text": [
      "[1, 4, 'Platano']\n"
     ]
    }
   ],
   "source": [
    "print(lista5[-1])"
   ]
  },
  {
   "cell_type": "code",
   "execution_count": 67,
   "id": "b9da60c6",
   "metadata": {},
   "outputs": [
    {
     "name": "stdout",
     "output_type": "stream",
     "text": [
      "Manzana\n"
     ]
    }
   ],
   "source": [
    "print(lista5[-2])"
   ]
  },
  {
   "cell_type": "code",
   "execution_count": 68,
   "id": "02e5d6bc",
   "metadata": {},
   "outputs": [],
   "source": [
    "lista6 = [1, 2, 3, 4, 5, 6, 7, 8, 9]"
   ]
  },
  {
   "cell_type": "code",
   "execution_count": 69,
   "id": "8a4bae75",
   "metadata": {},
   "outputs": [
    {
     "name": "stdout",
     "output_type": "stream",
     "text": [
      "[3, 4, 5]\n"
     ]
    }
   ],
   "source": [
    "print(lista6[2:5])"
   ]
  },
  {
   "cell_type": "code",
   "execution_count": 70,
   "id": "3a94187b",
   "metadata": {},
   "outputs": [
    {
     "name": "stdout",
     "output_type": "stream",
     "text": [
      "[3, 4, 5, 6, 7, 8, 9]\n"
     ]
    }
   ],
   "source": [
    "print(lista6[2:])"
   ]
  },
  {
   "cell_type": "code",
   "execution_count": 71,
   "id": "97116320",
   "metadata": {},
   "outputs": [
    {
     "name": "stdout",
     "output_type": "stream",
     "text": [
      "[1, 2, 3, 4, 5, 6, 7, 8, 9]\n"
     ]
    }
   ],
   "source": [
    "lista6[4] = 5\n",
    "print(lista6)"
   ]
  },
  {
   "cell_type": "code",
   "execution_count": 72,
   "id": "cf46a2a5",
   "metadata": {},
   "outputs": [
    {
     "name": "stdout",
     "output_type": "stream",
     "text": [
      "[1, 2, 3, 4, 5, 6, 7, 8, 9, 11]\n"
     ]
    }
   ],
   "source": [
    "lista6.append(11)\n",
    "print(lista6)"
   ]
  },
  {
   "cell_type": "code",
   "execution_count": 73,
   "id": "88fcfbca",
   "metadata": {},
   "outputs": [],
   "source": [
    "lista_aux = [12, 13, 14]"
   ]
  },
  {
   "cell_type": "code",
   "execution_count": 74,
   "id": "cdffbd75",
   "metadata": {},
   "outputs": [
    {
     "name": "stdout",
     "output_type": "stream",
     "text": [
      "[1, 2, 3, 4, 5, 6, 7, 8, 9, 11, [12, 13, 14]]\n"
     ]
    }
   ],
   "source": [
    "lista6.append(lista_aux)\n",
    "print(lista6)"
   ]
  },
  {
   "cell_type": "code",
   "execution_count": 75,
   "id": "bc15da79",
   "metadata": {},
   "outputs": [
    {
     "name": "stdout",
     "output_type": "stream",
     "text": [
      "[1, 2, 3, 4, 5, 6, 7, 8, 9, 11, [12, 13, 14], 12, 13, 14]\n"
     ]
    }
   ],
   "source": [
    "lista6.extend(lista_aux)\n",
    "print(lista6)"
   ]
  },
  {
   "cell_type": "code",
   "execution_count": 76,
   "id": "29db47dc",
   "metadata": {},
   "outputs": [
    {
     "name": "stdout",
     "output_type": "stream",
     "text": [
      "[1, 2, 3, 4, 5, 6, 7, 8, 9, 11, 12, 13, 14]\n"
     ]
    }
   ],
   "source": [
    "lista6.remove([12, 13, 14])\n",
    "print(lista6)"
   ]
  },
  {
   "cell_type": "code",
   "execution_count": 77,
   "id": "13b774c0",
   "metadata": {},
   "outputs": [],
   "source": [
    "# tuplas\n",
    "\n",
    "tupla = ()\n",
    "\n",
    "tupla1 = (3, 4, 5)\n",
    "\n",
    "tupla2 = (1, 2, 3, 'Manzana')\n",
    "\n",
    "tupla3 = (1, 2, 3, 'Manzana', (4, 5, 6))"
   ]
  },
  {
   "cell_type": "code",
   "execution_count": 78,
   "id": "d60e7f57",
   "metadata": {},
   "outputs": [
    {
     "name": "stdout",
     "output_type": "stream",
     "text": [
      "3\n"
     ]
    }
   ],
   "source": [
    "print(tupla1[0])"
   ]
  },
  {
   "cell_type": "code",
   "execution_count": 79,
   "id": "63caabe1",
   "metadata": {},
   "outputs": [],
   "source": [
    "# Diccionarios\n",
    "\n",
    "diccionario = {}\n",
    "\n",
    "diccionario1= {\n",
    "    1:'manzana', 2:'balon'\n",
    "}\n",
    "\n",
    "diccionario2= {\n",
    "    'nombre': 'Juan', 1: [2, 3, 4]\n",
    "}\n",
    "\n",
    "diccionario3= {\n",
    "    'nombre': 'Juan', 'edad': 25, 'telefono': 999999999\n",
    "}"
   ]
  },
  {
   "cell_type": "code",
   "execution_count": 80,
   "id": "2163da49",
   "metadata": {},
   "outputs": [
    {
     "name": "stdout",
     "output_type": "stream",
     "text": [
      "None\n"
     ]
    }
   ],
   "source": [
    "print(diccionario3.get('direccion'))"
   ]
  },
  {
   "cell_type": "code",
   "execution_count": 81,
   "id": "9af4835f",
   "metadata": {},
   "outputs": [],
   "source": [
    "diccionario3['direccion'] = 'calle lima'"
   ]
  },
  {
   "cell_type": "code",
   "execution_count": 82,
   "id": "95c4c8da",
   "metadata": {},
   "outputs": [
    {
     "name": "stdout",
     "output_type": "stream",
     "text": [
      "True\n"
     ]
    }
   ],
   "source": [
    "#Control  Flujo IF, FOR, WHILE, TRY EXCEPT\n",
    "\n",
    "var1 = 10\n",
    "\n",
    "if var1 < 11:\n",
    "    print('True')\n",
    "else:\n",
    "    print('False')"
   ]
  },
  {
   "cell_type": "code",
   "execution_count": 83,
   "id": "4f8920e1",
   "metadata": {},
   "outputs": [
    {
     "name": "stdout",
     "output_type": "stream",
     "text": [
      "True\n",
      "mayor que 8\n"
     ]
    }
   ],
   "source": [
    "if var1 < 11:\n",
    "    print('True')\n",
    "    if var1 > 8:\n",
    "        print('mayor que 8')\n",
    "else:\n",
    "    print('False')"
   ]
  },
  {
   "cell_type": "code",
   "execution_count": 84,
   "id": "71a56415",
   "metadata": {},
   "outputs": [
    {
     "name": "stdout",
     "output_type": "stream",
     "text": [
      "[1, 2, 3, 4, 5, 6, 7, 8, 9, 11, 12, 13, 14]\n"
     ]
    }
   ],
   "source": [
    "#FOR\n",
    "\n",
    "print(lista6)"
   ]
  },
  {
   "cell_type": "code",
   "execution_count": 85,
   "id": "eb1ff217",
   "metadata": {},
   "outputs": [
    {
     "name": "stdout",
     "output_type": "stream",
     "text": [
      "1\n",
      "2\n",
      "3\n",
      "4\n",
      "5\n",
      "25\n",
      "6\n",
      "7\n",
      "8\n",
      "9\n",
      "11\n",
      "12\n",
      "13\n",
      "14\n"
     ]
    }
   ],
   "source": [
    "for item in lista6:\n",
    "    print(item)\n",
    "    if item == 5:\n",
    "        print(item*5)\n"
   ]
  },
  {
   "cell_type": "code",
   "execution_count": 86,
   "id": "f3deb181",
   "metadata": {},
   "outputs": [
    {
     "name": "stdout",
     "output_type": "stream",
     "text": [
      "while\n",
      "while\n",
      "while\n",
      "while\n",
      "while\n"
     ]
    }
   ],
   "source": [
    "#WHILE\n",
    "\n",
    "i = 1\n",
    "\n",
    "while i <= 5 :\n",
    "    print('while')\n",
    "    i = i + 1"
   ]
  },
  {
   "cell_type": "code",
   "execution_count": 87,
   "id": "43d76799",
   "metadata": {},
   "outputs": [],
   "source": [
    "# Funciones\n",
    "\n",
    "def nombrefuncion():\n",
    "    print('Hola Mundo')"
   ]
  },
  {
   "cell_type": "code",
   "execution_count": 88,
   "id": "64648b63",
   "metadata": {},
   "outputs": [
    {
     "name": "stdout",
     "output_type": "stream",
     "text": [
      "Hola Mundo\n"
     ]
    }
   ],
   "source": [
    "nombrefuncion()"
   ]
  },
  {
   "cell_type": "code",
   "execution_count": 89,
   "id": "c251993c",
   "metadata": {},
   "outputs": [],
   "source": [
    "def di_hola(nombre):\n",
    "    print('Hola',nombre)"
   ]
  },
  {
   "cell_type": "code",
   "execution_count": 90,
   "id": "4cec4115",
   "metadata": {},
   "outputs": [
    {
     "name": "stdout",
     "output_type": "stream",
     "text": [
      "Hola Juan\n"
     ]
    }
   ],
   "source": [
    "di_hola('Juan')"
   ]
  },
  {
   "cell_type": "code",
   "execution_count": 91,
   "id": "bf1f249d",
   "metadata": {},
   "outputs": [
    {
     "name": "stdout",
     "output_type": "stream",
     "text": [
      "Hola\n"
     ]
    }
   ],
   "source": [
    "saluda = lambda: 'Hola'\n",
    "\n",
    "print(saluda())\n"
   ]
  }
 ],
 "metadata": {
  "kernelspec": {
   "display_name": "Python 3",
   "language": "python",
   "name": "python3"
  },
  "language_info": {
   "codemirror_mode": {
    "name": "ipython",
    "version": 3
   },
   "file_extension": ".py",
   "mimetype": "text/x-python",
   "name": "python",
   "nbconvert_exporter": "python",
   "pygments_lexer": "ipython3",
   "version": "3.12.1"
  }
 },
 "nbformat": 4,
 "nbformat_minor": 5
}
