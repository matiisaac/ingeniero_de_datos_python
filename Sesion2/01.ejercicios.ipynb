{
 "cells": [
  {
   "cell_type": "code",
   "execution_count": 3,
   "metadata": {},
   "outputs": [],
   "source": [
    "import random"
   ]
  },
  {
   "cell_type": "code",
   "execution_count": 8,
   "metadata": {},
   "outputs": [
    {
     "name": "stdout",
     "output_type": "stream",
     "text": [
      "[42, 71, 20, 88, 20, 17, 11, 57, 55, 10, 39, 65, 12, 3, 50, 4, 70, 71, 93, 12, 88, 1, 15, 20, 58, 33, 31, 82, 33, 72, 79, 20, 72, 41, 94, 95, 2, 3, 91, 64, 96, 9, 14, 6, 27, 53, 32, 96, 61, 94, 76, 39, 4, 65, 73, 52, 93, 17, 52, 88, 17, 98, 86, 79, 24, 2, 57, 51, 28, 82, 89, 17, 60, 64, 22, 63, 1, 57, 7, 44, 37, 24, 27, 44, 40, 88, 36, 11, 82, 99, 26, 51, 51, 46, 22, 59, 49, 29, 28]\n"
     ]
    }
   ],
   "source": [
    "lista = [random.randint(1,100) for i in range(1,100)]\n",
    "print(lista)"
   ]
  },
  {
   "cell_type": "code",
   "execution_count": 9,
   "metadata": {},
   "outputs": [
    {
     "name": "stdout",
     "output_type": "stream",
     "text": [
      "2456\n"
     ]
    }
   ],
   "source": [
    "# funcion para sumar numeros pares -> operador % //.53%2 = 1\n",
    "def suma_pares(lista):\n",
    "    sum = 0\n",
    "    for item in lista:\n",
    "        if item % 2 == 0:\n",
    "            sum = sum + item\n",
    "    return sum\n",
    "\n",
    "print(suma_pares(lista))"
   ]
  },
  {
   "cell_type": "code",
   "execution_count": 12,
   "metadata": {},
   "outputs": [
    {
     "name": "stdout",
     "output_type": "stream",
     "text": [
      "True\n"
     ]
    }
   ],
   "source": [
    "# funcion para buscar un elemento en una lista\n",
    "def buscar_elemento(lista, elemento):\n",
    "    for item in lista:\n",
    "        if item == elemento:\n",
    "            return True\n",
    "    \n",
    "    return False\n",
    "\n",
    "print(buscar_elemento(lista, 12))"
   ]
  },
  {
   "cell_type": "code",
   "execution_count": 15,
   "metadata": {},
   "outputs": [
    {
     "name": "stdout",
     "output_type": "stream",
     "text": [
      "{'python': 3, 'java': 2, 'c++': 1}\n"
     ]
    }
   ],
   "source": [
    "# Crear una función que reciba una lista de palabras y retorne un diccionario con \n",
    "# la cantidad de veces que aparece cada palabra.\n",
    "def contar_palabras(lista):\n",
    "    dict_frec = {}\n",
    "    for palabra in lista:\n",
    "        if palabra in dict_frec:\n",
    "            dict_frec[palabra] = dict_frec[palabra] + 1\n",
    "        else:\n",
    "            dict_frec[palabra] = 1\n",
    "    return dict_frec\n",
    "\n",
    "palabras = [\"python\", \"java\", \"python\", \"c++\", \"python\", \"java\"]\n",
    "resultado = contar_palabras(palabras)\n",
    "print(resultado)"
   ]
  },
  {
   "cell_type": "code",
   "execution_count": 16,
   "metadata": {},
   "outputs": [
    {
     "name": "stdout",
     "output_type": "stream",
     "text": [
      "Pedro\n"
     ]
    }
   ],
   "source": [
    "# Crear una función que reciba un diccionario donde las llaves sean nombres y los valores sean notas.\n",
    "# Debe retornar el nombre del alumno con la nota más alta\n",
    "def mejor_alumno(diccionario):\n",
    "    mejor_nota = 0\n",
    "    mejor_alum = \"\"\n",
    "    for nombre, nota in diccionario.items():\n",
    "        if nota > mejor_nota:\n",
    "            mejor_nota = nota\n",
    "            mejor_alum = nombre\n",
    "    return mejor_alum\n",
    "\n",
    "\n",
    "notas = {\"Ana\": 15, \"Luis\": 18, \"María\": 17, \"Pedro\": 19}\n",
    "print(mejor_alumno(notas))  "
   ]
  }
 ],
 "metadata": {
  "kernelspec": {
   "display_name": "Python 3",
   "language": "python",
   "name": "python3"
  },
  "language_info": {
   "codemirror_mode": {
    "name": "ipython",
    "version": 3
   },
   "file_extension": ".py",
   "mimetype": "text/x-python",
   "name": "python",
   "nbconvert_exporter": "python",
   "pygments_lexer": "ipython3",
   "version": "3.12.1"
  },
  "orig_nbformat": 4
 },
 "nbformat": 4,
 "nbformat_minor": 2
}
